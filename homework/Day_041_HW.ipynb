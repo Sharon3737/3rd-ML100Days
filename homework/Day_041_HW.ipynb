{
 "cells": [
  {
   "cell_type": "markdown",
   "metadata": {},
   "source": [
    "## 作業\n",
    "\n",
    "\n",
    "\n",
    "閱讀以下兩篇文獻，了解決策樹原理，並試著回答後續的問題\n",
    "- [決策樹 (Decision Tree) - 中文](https://medium.com/@yehjames/%E8%B3%87%E6%96%99%E5%88%86%E6%9E%90-%E6%A9%9F%E5%99%A8%E5%AD%B8%E7%BF%92-%E7%AC%AC3-5%E8%AC%9B-%E6%B1%BA%E7%AD%96%E6%A8%B9-decision-tree-%E4%BB%A5%E5%8F%8A%E9%9A%A8%E6%A9%9F%E6%A3%AE%E6%9E%97-random-forest-%E4%BB%8B%E7%B4%B9-7079b0ddfbda)\n",
    "- [how decision tree works - 英文](http://dataaspirant.com/2017/01/30/how-decision-tree-algorithm-works/)\n",
    "\n",
    "1. 在分類問題中，若沒有任何限制，決策樹有辦法在訓練時將 training loss 完全降成 0 嗎？\n",
    "2. 決策樹只能用在分類問題嗎？還是可以用來解決回歸問題？\n"
   ]
  },
  {
   "cell_type": "code",
   "execution_count": null,
   "metadata": {},
   "outputs": [],
   "source": [
    "#作業１：在分類問題中，若沒有任何限制，決策樹有辦法在訓練時將 training loss 完全降成 0 嗎？\n",
    "可以，當決策樹夠深，training loss損失可降為0，但也因支葉深而造成overfitting問題，\n",
    "而我們可利用預剪枝和後剪枝方法避免overfitting，也可在進行決策樹前，限制數的深度與寬度。\n",
    "#作業２：決策樹做分類問題時，資料的相似度比較容易計算 (是否屬於同一個類別)。那如果變成回歸問題，\n",
    "這時切分後的資料不純度該如何計算？樹建置完成後，又該如何進行預測呢？\n",
    "CART演算法既可用於分類也可用於迴歸。\n",
    "CART則利用二元切分來處理連續型變數，每次會找一個最佳特徵的閾值，把資料集分成兩部分，也就是左子樹和右子樹。\n",
    "#參考資料: https://www.itread01.com/content/1543483330.html\n"
   ]
  }
 ],
 "metadata": {
  "kernelspec": {
   "display_name": "Python 3",
   "language": "python",
   "name": "python3"
  },
  "language_info": {
   "codemirror_mode": {
    "name": "ipython",
    "version": 3
   },
   "file_extension": ".py",
   "mimetype": "text/x-python",
   "name": "python",
   "nbconvert_exporter": "python",
   "pygments_lexer": "ipython3",
   "version": "3.7.3"
  }
 },
 "nbformat": 4,
 "nbformat_minor": 2
}
