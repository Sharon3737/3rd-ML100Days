{
 "cells": [
  {
   "cell_type": "markdown",
   "metadata": {},
   "source": [
    "## 練習時間"
   ]
  },
  {
   "cell_type": "markdown",
   "metadata": {},
   "source": [
    "請觀看李宏毅教授以神奇寶貝進化 CP 值預測的範例，解說何謂機器學習與過擬合。並回答以下問題"
   ]
  },
  {
   "cell_type": "markdown",
   "metadata": {},
   "source": [
    "[youtube](https://www.youtube.com/watch?v=fegAeph9UaA)"
   ]
  },
  {
   "cell_type": "markdown",
   "metadata": {},
   "source": [
    "### 1. 模型的泛化能力 (generalization) 是指什麼？ \n",
    "### 2. 分類問題與回歸問題分別可用的目標函數有哪些？"
   ]
  },
  {
   "cell_type": "code",
   "execution_count": null,
   "metadata": {},
   "outputs": [],
   "source": [
    "#1.模型的泛化能力 (generalization) 是指什麼？\n",
    "#參考資料:https://blog.csdn.net/limiyudianzi/article/details/79626702\n",
    "#泛化能力（generalization ability）是指一個機器學習算法對於沒有見過的樣本的識別能力。\n",
    "#我們也叫做舉一反三的能力，或者叫做學以致用的能力。\n",
    "#2.分類問題與回歸問題分別可用的目標函數有哪些？\n",
    "#參考資料: https://zhuanlan.zhihu.com/p/44722270\n",
    "#分類問題:歐是距離、交叉熵(cross-entropy)、對比損失(Contrastive Loss)、合頁損失、信息增益"
   ]
  }
 ],
 "metadata": {
  "kernelspec": {
   "display_name": "Python 3",
   "language": "python",
   "name": "python3"
  },
  "language_info": {
   "codemirror_mode": {
    "name": "ipython",
    "version": 3
   },
   "file_extension": ".py",
   "mimetype": "text/x-python",
   "name": "python",
   "nbconvert_exporter": "python",
   "pygments_lexer": "ipython3",
   "version": "3.7.3"
  }
 },
 "nbformat": 4,
 "nbformat_minor": 2
}
