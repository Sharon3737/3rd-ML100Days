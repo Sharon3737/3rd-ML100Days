{
 "cells": [
  {
   "cell_type": "markdown",
   "metadata": {},
   "source": [
    "## [作業重點]\n",
    "了解線性回歸的模型發展歷程，並了解優勢與劣勢，以及其使用情境"
   ]
  },
  {
   "cell_type": "markdown",
   "metadata": {},
   "source": [
    "## 作業"
   ]
  },
  {
   "cell_type": "markdown",
   "metadata": {},
   "source": [
    "請閱讀以下相關文獻，並回答以下問題\n",
    "\n",
    "[Linear Regression 詳細介紹](https://brohrer.mcknote.com/zh-Hant/how_machine_learning_works/how_linear_regression_works.html)\n",
    "\n",
    "[Logistics Regression 詳細介紹](https://medium.com/@yehjames/%E8%B3%87%E6%96%99%E5%88%86%E6%9E%90-%E6%A9%9F%E5%99%A8%E5%AD%B8%E7%BF%92-%E7%AC%AC3-3%E8%AC%9B-%E7%B7%9A%E6%80%A7%E5%88%86%E9%A1%9E-%E9%82%8F%E8%BC%AF%E6%96%AF%E5%9B%9E%E6%AD%B8-logistic-regression-%E4%BB%8B%E7%B4%B9-a1a5f47017e5)\n"
   ]
  },
  {
   "cell_type": "markdown",
   "metadata": {},
   "source": [
    "1. 線性回歸模型能夠準確預測非線性關係的資料集嗎?\n",
    "2. 回歸模型是否對資料分布有基本假設?\n"
   ]
  },
  {
   "cell_type": "code",
   "execution_count": null,
   "metadata": {},
   "outputs": [],
   "source": [
    "#線性回歸模型能夠準確預測非線性關係的資料集嗎?\n",
    "#參考https://kknews.cc/zh-tw/code/r8xgqjx.html\n",
    "#遇到非線性回歸問題可以藉助數學手段化為線性回歸問題處理。\n",
    "#處理方法：\n",
    "#1.可線性化問題\n",
    "#處理可線性化處理的非線性回歸的基本方法是，通過變量變換，將非線性回歸化為線性回歸，然後用線性回歸方法處理。假定根據理論或經驗，已獲得輸出變量與輸入變量之間的非線性表達式，但表達式的係數是未知的，要根據輸入輸出的n次觀察結果來確定係數的值。按最小二乘法原理來求出係數值，所得到的模型為非線性回歸模型(nonlinear regression model)。\n",
    "#2.不可線性化問題\n",
    "#對實際科學研究中常遇到不可線性處理的非線性回歸問題，提出了一種新的解決方法。該方法是基於回歸問題的最小二乘法，在求誤差平方和最小的極值問題上，應用了最優化方法中對無約束極值問題的一種數學解法——單純形法。應用結果證明，這種非線性回歸的方法算法比較簡單,收斂效果和收斂速度都比較理想。\n",
    "#我們有了數學模型，那麼我們如何利用計算機幫助我們求解最優模型參數呢？在這，不得不提到機器學習中求解最優值問題最常用的一種方法：梯度下降法(非線性回歸)。\n",
    "\n",
    "#回歸模型是否對資料分布有基本假設?\n",
    "#參考https://www.yongxi-stat.com/simple-regression-analysis/\n",
    "#誤差項需滿足三大假設\n",
    "#(1)常態性:若母體資料呈現常態分配(Normal Distribution)，則誤差項也會呈現同樣的分配。可採用常態機率圖(normal probability plot) 或Shapiro-Wilk常態性檢定做檢查。\n",
    "#(2)獨立性:誤差項之間應該要相互獨立，否則在估計迴歸參數時會降低統計的檢定力。我們可以藉由Durbin-Watson test來檢查。\n",
    "#(3)變異數同質性:變異數若不相等會導致自變數無法有效估計依變數。我們可以藉由殘差圖(Residual Plot)來檢查。\n",
    "#假說檢定(Hypothesis Testing):\n",
    "#1. 迴歸模型的顯著性檢定(F test): 探討迴歸模型中的β係數是否全部為0。\n",
    "#當係數不為0時，迴歸模型才具有預測力。\n",
    "#虛無假說(Null hypothesis)→β1=β2=βn=0\n",
    "#對立假說(alternative hypothesis)→至少有一個β不為0\n",
    "#統計值(Statistics)→F\n",
    "#2. 個別迴歸係數的邊際檢定(t test):探討個別自變數之β係數是否為0。\n",
    "#當係數不為0時，自變數才具有解釋力。\n",
    "#虛無假說(Null hypothesis)→βn係數為0\n",
    "#對立假說(alternative hypothesis)→βn係數不為0\n",
    "#統計值(Statistics)→t"
   ]
  }
 ],
 "metadata": {
  "kernelspec": {
   "display_name": "Python 3",
   "language": "python",
   "name": "python3"
  },
  "language_info": {
   "codemirror_mode": {
    "name": "ipython",
    "version": 3
   },
   "file_extension": ".py",
   "mimetype": "text/x-python",
   "name": "python",
   "nbconvert_exporter": "python",
   "pygments_lexer": "ipython3",
   "version": "3.7.3"
  }
 },
 "nbformat": 4,
 "nbformat_minor": 2
}
